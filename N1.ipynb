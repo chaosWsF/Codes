{
 "cells": [
  {
   "cell_type": "code",
   "execution_count": 1,
   "id": "82107b51-0ab2-4de5-b1c8-01e22a77bc86",
   "metadata": {},
   "outputs": [],
   "source": [
    "import scipy.io"
   ]
  },
  {
   "cell_type": "code",
   "execution_count": 2,
   "id": "2ed741ac",
   "metadata": {},
   "outputs": [],
   "source": [
    "data = scipy.io.loadmat(\"..\\Data\\DEED_other_data\\dream_BLostbF\\Dream_EEG_with_emotion_labels\\G_S0021_M3_E0_R4_nan_raw_ref.mat\")"
   ]
  },
  {
   "cell_type": "code",
   "execution_count": 3,
   "id": "d65b8ea0",
   "metadata": {},
   "outputs": [
    {
     "name": "stdout",
     "output_type": "stream",
     "text": [
      "{'__header__': b'MATLAB 5.0 MAT-file, Platform: PCWIN64, Created on: Wed Jun  8 18:27:24 2022', '__version__': '1.0', '__globals__': [], 'Data': array([[-1.92721653e+01, -2.12727165e+01, -2.58479462e+01, ...,\n",
      "         1.45705152e+00, -1.77560091e+00, -4.13753510e-01],\n",
      "       [-2.50156155e+01, -2.77355881e+01, -3.08511658e+01, ...,\n",
      "        -2.57204556e+00, -3.84595275e+00, -6.22808790e+00],\n",
      "       [-2.56598234e+00, -1.14571631e+00, -3.42157364e+00, ...,\n",
      "         8.85769367e+00,  1.12325594e-01, -1.09588470e+01],\n",
      "       [-1.34406862e+01, -1.35549002e+01, -1.17477951e+01, ...,\n",
      "         6.59414053e-01,  1.26713759e-03, -2.44163203e+00],\n",
      "       [-5.58111250e-01,  8.50695133e-01, -1.30207908e+00, ...,\n",
      "         1.55723848e+01,  7.11987925e+00, -1.67929149e+00],\n",
      "       [-7.76336527e+00, -7.01033449e+00, -5.86799431e+00, ...,\n",
      "        -1.17821825e+00, -3.38194418e+00, -2.54560089e+00]], dtype=float32)}\n"
     ]
    }
   ],
   "source": [
    "print(data)"
   ]
  },
  {
   "cell_type": "code",
   "execution_count": 4,
   "id": "bfbfa059",
   "metadata": {},
   "outputs": [
    {
     "data": {
      "text/plain": [
       "numpy.ndarray"
      ]
     },
     "execution_count": 4,
     "metadata": {},
     "output_type": "execute_result"
    }
   ],
   "source": [
    "type(data['Data'])"
   ]
  },
  {
   "cell_type": "code",
   "execution_count": 5,
   "id": "675b10cd",
   "metadata": {},
   "outputs": [],
   "source": [
    "dat = data[\"Data\"]"
   ]
  },
  {
   "cell_type": "code",
   "execution_count": 6,
   "id": "0bf285be",
   "metadata": {},
   "outputs": [
    {
     "data": {
      "text/plain": [
       "1120800"
      ]
     },
     "execution_count": 6,
     "metadata": {},
     "output_type": "execute_result"
    }
   ],
   "source": [
    "dat.size"
   ]
  },
  {
   "cell_type": "code",
   "execution_count": 7,
   "id": "42874b4e",
   "metadata": {},
   "outputs": [
    {
     "data": {
      "text/plain": [
       "(6, 186800)"
      ]
     },
     "execution_count": 7,
     "metadata": {},
     "output_type": "execute_result"
    }
   ],
   "source": [
    "dat.shape"
   ]
  },
  {
   "cell_type": "code",
   "execution_count": null,
   "id": "3b44de98",
   "metadata": {},
   "outputs": [],
   "source": []
  }
 ],
 "metadata": {
  "kernelspec": {
   "display_name": "mlp",
   "language": "python",
   "name": "python3"
  },
  "language_info": {
   "codemirror_mode": {
    "name": "ipython",
    "version": 3
   },
   "file_extension": ".py",
   "mimetype": "text/x-python",
   "name": "python",
   "nbconvert_exporter": "python",
   "pygments_lexer": "ipython3",
   "version": "3.11.10"
  }
 },
 "nbformat": 4,
 "nbformat_minor": 5
}
